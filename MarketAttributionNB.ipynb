{
 "cells": [
  {
   "cell_type": "markdown",
   "metadata": {},
   "source": [
    "# Market Attribution Channels using Markov Chains"
   ]
  },
  {
   "cell_type": "code",
   "execution_count": 21,
   "metadata": {},
   "outputs": [],
   "source": [
    "# Importing libraries\n",
    "import pandas as pd\n",
    "import numpy as np\n",
    "from collections import defaultdict\n",
    "import seaborn as sns\n",
    "import matplotlib.pyplot as plt\n",
    "import subprocess"
   ]
  },
  {
   "cell_type": "code",
   "execution_count": 23,
   "metadata": {},
   "outputs": [],
   "source": [
    "# Loading and sorting the data\n",
    "df = pd.read_csv('attribution data.csv')\n",
    "cols = df.columns\n",
    "for col in cols:\n",
    "    df[col] = df[col].astype(str)\n",
    "    df[col] = df[col].map(lambda x: str(x)[:-2] if '.' in x else str(x))"
   ]
  },
  {
   "cell_type": "code",
   "execution_count": 24,
   "metadata": {},
   "outputs": [],
   "source": [
    "# Formatting the data to get a single row per user\n",
    "df['Path'] = ''\n",
    "for i in df.index:\n",
    "    #df.at[i, 'Path'] = 'Start'\n",
    "    for x in cols:\n",
    "        df.at[i, 'Path'] = df.at[i, 'Path'] + df.at[i, x] + ' > '\n",
    "        \n",
    "#separating conversion from the path\n",
    "df['Path'] = df['Path'].map(lambda x: x.split(' > 21')[0])\n",
    "df['Conversion'] = 1\n"
   ]
  },
  {
   "cell_type": "code",
   "execution_count": 25,
   "metadata": {},
   "outputs": [],
   "source": [
    "# Grouping by unique user journeys\n",
    "# Select relevant columns\n",
    "df = df[['Path', 'Conversion']]\n",
    "\n",
    "# Sum conversions by Path\n",
    "df = df.groupby('Path').sum().reset_index()\n",
    "\n",
    "# Writing DF to CSV to be executed in R 'ChannelAttribution' library\n",
    "df.to_csv('Paths.csv', index=False)"
   ]
  },
  {
   "cell_type": "code",
   "execution_count": 28,
   "metadata": {},
   "outputs": [
    {
     "data": {
      "text/plain": [
       "1"
      ]
     },
     "execution_count": 28,
     "metadata": {},
     "output_type": "execute_result"
    }
   ],
   "source": [
    "# Using R script \n",
    "subpath = \"C:\\\\Users\\\\johne\\\\Desktop\\\\Python Projects\\\\Markov Marketing\\\\Markov.R\"\n",
    "subprocess.call(['Rscript', '--vanilla', subpath], shell=True)"
   ]
  },
  {
   "cell_type": "code",
   "execution_count": 38,
   "metadata": {},
   "outputs": [],
   "source": [
    "# Load in the CSV file with the model output from R\n",
    "markov = pd.read_csv('Markov - Output - Conversion values.csv')\n",
    "\n",
    "# Select only the necessary columns and rename them\n",
    "markov = markov[['channel_name', 'total_conversions']]\n",
    "markov.columns = ['Channel', 'Conversion']"
   ]
  },
  {
   "cell_type": "code",
   "execution_count": 39,
   "metadata": {},
   "outputs": [
    {
     "data": {
      "text/html": [
       "<div>\n",
       "<style scoped>\n",
       "    .dataframe tbody tr th:only-of-type {\n",
       "        vertical-align: middle;\n",
       "    }\n",
       "\n",
       "    .dataframe tbody tr th {\n",
       "        vertical-align: top;\n",
       "    }\n",
       "\n",
       "    .dataframe thead th {\n",
       "        text-align: right;\n",
       "    }\n",
       "</style>\n",
       "<table border=\"1\" class=\"dataframe\">\n",
       "  <thead>\n",
       "    <tr style=\"text-align: right;\">\n",
       "      <th></th>\n",
       "      <th>Channel</th>\n",
       "      <th>Conversion</th>\n",
       "    </tr>\n",
       "  </thead>\n",
       "  <tbody>\n",
       "    <tr>\n",
       "      <th>0</th>\n",
       "      <td>00000FkCnDfDDf0iC97iC703B</td>\n",
       "      <td>0.789224</td>\n",
       "    </tr>\n",
       "    <tr>\n",
       "      <th>1</th>\n",
       "      <td>2018-07-03T13:02:11Z</td>\n",
       "      <td>0.248827</td>\n",
       "    </tr>\n",
       "    <tr>\n",
       "      <th>2</th>\n",
       "      <td>impression</td>\n",
       "      <td>195.878600</td>\n",
       "    </tr>\n",
       "    <tr>\n",
       "      <th>3</th>\n",
       "      <td>0</td>\n",
       "      <td>195.878600</td>\n",
       "    </tr>\n",
       "    <tr>\n",
       "      <th>4</th>\n",
       "      <td>Instagram</td>\n",
       "      <td>24.435403</td>\n",
       "    </tr>\n",
       "  </tbody>\n",
       "</table>\n",
       "</div>"
      ],
      "text/plain": [
       "                     Channel  Conversion\n",
       "0  00000FkCnDfDDf0iC97iC703B    0.789224\n",
       "1       2018-07-03T13:02:11Z    0.248827\n",
       "2                 impression  195.878600\n",
       "3                          0  195.878600\n",
       "4                  Instagram   24.435403"
      ]
     },
     "execution_count": 39,
     "metadata": {},
     "output_type": "execute_result"
    }
   ],
   "source": [
    "markov.head()"
   ]
  },
  {
   "cell_type": "code",
   "execution_count": 46,
   "metadata": {},
   "outputs": [
    {
     "data": {
      "text/html": [
       "<div>\n",
       "<style scoped>\n",
       "    .dataframe tbody tr th:only-of-type {\n",
       "        vertical-align: middle;\n",
       "    }\n",
       "\n",
       "    .dataframe tbody tr th {\n",
       "        vertical-align: top;\n",
       "    }\n",
       "\n",
       "    .dataframe thead th {\n",
       "        text-align: right;\n",
       "    }\n",
       "</style>\n",
       "<table border=\"1\" class=\"dataframe\">\n",
       "  <thead>\n",
       "    <tr style=\"text-align: right;\">\n",
       "      <th></th>\n",
       "      <th>Channel</th>\n",
       "      <th>Conversion</th>\n",
       "    </tr>\n",
       "  </thead>\n",
       "  <tbody>\n",
       "    <tr>\n",
       "      <th>2</th>\n",
       "      <td>impression</td>\n",
       "      <td>195.878600</td>\n",
       "    </tr>\n",
       "    <tr>\n",
       "      <th>3</th>\n",
       "      <td>0</td>\n",
       "      <td>195.878600</td>\n",
       "    </tr>\n",
       "    <tr>\n",
       "      <th>11</th>\n",
       "      <td>Paid Search</td>\n",
       "      <td>56.705034</td>\n",
       "    </tr>\n",
       "    <tr>\n",
       "      <th>30</th>\n",
       "      <td>Facebook</td>\n",
       "      <td>51.647591</td>\n",
       "    </tr>\n",
       "    <tr>\n",
       "      <th>45</th>\n",
       "      <td>Online Video</td>\n",
       "      <td>44.981170</td>\n",
       "    </tr>\n",
       "  </tbody>\n",
       "</table>\n",
       "</div>"
      ],
      "text/plain": [
       "         Channel  Conversion\n",
       "2     impression  195.878600\n",
       "3              0  195.878600\n",
       "11   Paid Search   56.705034\n",
       "30      Facebook   51.647591\n",
       "45  Online Video   44.981170"
      ]
     },
     "execution_count": 46,
     "metadata": {},
     "output_type": "execute_result"
    }
   ],
   "source": [
    "markov['Channel'] = markov['Channel'].unique()\n",
    "markov.sort_values(by='Conversion', ascending=False, inplace=True)\n",
    "markov.head()"
   ]
  },
  {
   "cell_type": "code",
   "execution_count": 57,
   "metadata": {},
   "outputs": [
    {
     "data": {
      "image/png": "[encoded data removed]",
      "text/plain": [
       "<Figure size 1152x720 with 1 Axes>"
      ]
     },
     "metadata": {},
     "output_type": "display_data"
    }
   ],
   "source": [
    "sns.set_style(\"whitegrid\")\n",
    "plt.rc('legend', fontsize=15)\n",
    "fig, ax = plt.subplots(figsize=(16, 10))\n",
    "sns.barplot(x='Channel', y='Conversion', data=markov[2:15]) # 0 and 1 columns are redundant\n",
    "plt.title('Attribution Values for Marketing Channels')\n",
    "plt.show()"
   ]
  },
  {
   "cell_type": "markdown",
   "metadata": {},
   "source": [
    "The Markov-chain model shows that 'paid search' is the channel with the highest conversion rate. "
   ]
  },
  {
   "cell_type": "code",
   "execution_count": 58,
   "metadata": {},
   "outputs": [],
   "source": [
    "# Comparing this to First- touch, Last-touch, Linear Attribution\n",
    "\n",
    "# First Touch Attribution\n",
    "df['First Touch'] = df['Path'].map(lambda x: x.split(' > ')[0])\n",
    "df_ft = pd.DataFrame()\n",
    "df_ft['Channel'] = df['First Touch']\n",
    "df_ft['Attribution'] = 'First Touch'\n",
    "df_ft['Conversion'] = 1\n",
    "df_ft = df_ft.groupby(['Channel', 'Attribution']).sum().reset_index()\n",
    "\n",
    "# Last Touch Attribution\n",
    "df['Last Touch'] = df['Path'].map(lambda x: x.split(' > ')[-1])\n",
    "df_lt = pd.DataFrame()\n",
    "df_lt['Channel'] = df['Last Touch']\n",
    "df_lt['Attribution'] = 'Last Touch'\n",
    "df_lt['Conversion'] = 1\n",
    "df_lt = df_lt.groupby(['Channel', 'Attribution']).sum().reset_index()\n",
    "\n",
    "# Linear Attribution\n",
    "channel = []\n",
    "conversion = []\n",
    "for i in df.index:\n",
    "    for j in df.at[i, 'Path'].split(' > '):\n",
    "        channel.append(j)\n",
    "        conversion.append(1/len(df.at[i, 'Path'].split(' > ')))\n",
    "lin_att_df = pd.DataFrame()\n",
    "lin_att_df['Channel'] = channel\n",
    "lin_att_df['Attribution'] = 'Linear'\n",
    "lin_att_df['Conversion'] = conversion\n",
    "lin_att_df = lin_att_df.groupby(['Channel', 'Attribution']).sum().reset_index()"
   ]
  },
  {
   "cell_type": "code",
   "execution_count": 157,
   "metadata": {},
   "outputs": [],
   "source": [
    "markov['Attribution'] = 'Markov'\n",
    "df_total_attr = pd.concat([df_ft, df_lt, lin_att_df, markov])\n",
    "\n",
    "## NORMALIZING THE CONVERSION VALUES\n",
    "normalized_df=(df_total_attr['Conversion']-df_total_attr['Conversion'].min())/(df_total_attr['Conversion'].max()-df_total_attr['Conversion'].min())\n",
    "df_total_attr['Normalized Values'] = normalized_df\n",
    "\n",
    "df_total_attr.sort_values(by='Channel', ascending=True, inplace=True)\n"
   ]
  },
  {
   "cell_type": "code",
   "execution_count": 158,
   "metadata": {},
   "outputs": [
    {
     "data": {
      "text/html": [
       "<div>\n",
       "<style scoped>\n",
       "    .dataframe tbody tr th:only-of-type {\n",
       "        vertical-align: middle;\n",
       "    }\n",
       "\n",
       "    .dataframe tbody tr th {\n",
       "        vertical-align: top;\n",
       "    }\n",
       "\n",
       "    .dataframe thead th {\n",
       "        text-align: right;\n",
       "    }\n",
       "</style>\n",
       "<table border=\"1\" class=\"dataframe\">\n",
       "  <thead>\n",
       "    <tr style=\"text-align: right;\">\n",
       "      <th></th>\n",
       "      <th>Channel</th>\n",
       "      <th>Attribution</th>\n",
       "      <th>Conversion</th>\n",
       "      <th>Normalized Values</th>\n",
       "    </tr>\n",
       "  </thead>\n",
       "  <tbody>\n",
       "    <tr>\n",
       "      <th>0</th>\n",
       "      <td></td>\n",
       "      <td>Linear</td>\n",
       "      <td>83227.428571</td>\n",
       "      <td>0.142857</td>\n",
       "    </tr>\n",
       "    <tr>\n",
       "      <th>0</th>\n",
       "      <td></td>\n",
       "      <td>Last Touch</td>\n",
       "      <td>582592.000000</td>\n",
       "      <td>1.000000</td>\n",
       "    </tr>\n",
       "    <tr>\n",
       "      <th>3</th>\n",
       "      <td>0</td>\n",
       "      <td>Markov</td>\n",
       "      <td>195.878600</td>\n",
       "      <td>0.000336</td>\n",
       "    </tr>\n",
       "    <tr>\n",
       "      <th>1</th>\n",
       "      <td>0</td>\n",
       "      <td>Linear</td>\n",
       "      <td>161415.142859</td>\n",
       "      <td>0.277064</td>\n",
       "    </tr>\n",
       "    <tr>\n",
       "      <th>0</th>\n",
       "      <td>00000FkCnDfDDf0iC97iC703B</td>\n",
       "      <td>Markov</td>\n",
       "      <td>0.789224</td>\n",
       "      <td>0.000001</td>\n",
       "    </tr>\n",
       "  </tbody>\n",
       "</table>\n",
       "</div>"
      ],
      "text/plain": [
       "                     Channel Attribution     Conversion  Normalized Values\n",
       "0                                 Linear   83227.428571           0.142857\n",
       "0                             Last Touch  582592.000000           1.000000\n",
       "3                          0      Markov     195.878600           0.000336\n",
       "1                          0      Linear  161415.142859           0.277064\n",
       "0  00000FkCnDfDDf0iC97iC703B      Markov       0.789224           0.000001"
      ]
     },
     "execution_count": 158,
     "metadata": {},
     "output_type": "execute_result"
    }
   ],
   "source": [
    "df_total_attr.head()"
   ]
  },
  {
   "cell_type": "code",
   "execution_count": 171,
   "metadata": {},
   "outputs": [
    {
     "data": {
      "image/png": "[encoded data removed]",
      "text/plain": [
       "<Figure size 1152x720 with 1 Axes>"
      ]
     },
     "metadata": {},
     "output_type": "display_data"
    }
   ],
   "source": [
    "sns.set_style(\"whitegrid\")\n",
    "plt.rc('legend', fontsize=15)\n",
    "fig, ax = plt.subplots(figsize=(16, 10))\n",
    "sns.barplot(x='Channel', y='Normalized Values', hue='Attribution', data=df_total_attr[4:40])\n",
    "plt.title('Channel Attribution for the 4 Models')\n",
    "plt.show()"
   ]
  },
  {
   "cell_type": "markdown",
   "metadata": {},
   "source": [
    "From here, we can see where the models agree there is the highest conversion rating for a certain attribution channel. \n",
    "\n",
    "We can use this data to observe the trend between first, last touch... Where resources can be best allocated towards a certain channel.\n",
    "\n",
    "Markov - chains provide a great snapshot to channel attribution, which can give a marketing campaign key inisght before a launch. "
   ]
  },
  {
   "cell_type": "code",
   "execution_count": null,
   "metadata": {},
   "outputs": [],
   "source": []
  }
 ],
 "metadata": {
  "kernelspec": {
   "display_name": "Python 3",
   "language": "python",
   "name": "python3"
  },
  "language_info": {
   "codemirror_mode": {
    "name": "ipython",
    "version": 3
   },
   "file_extension": ".py",
   "mimetype": "text/x-python",
   "name": "python",
   "nbconvert_exporter": "python",
   "pygments_lexer": "ipython3",
   "version": "3.8.3"
  }
 },
 "nbformat": 4,
 "nbformat_minor": 4
}
